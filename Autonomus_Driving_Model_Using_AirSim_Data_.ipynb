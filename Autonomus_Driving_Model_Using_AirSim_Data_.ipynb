{
  "nbformat": 4,
  "nbformat_minor": 0,
  "metadata": {
    "colab": {
      "name": "Autonomus Driving Model Using AirSim Data .ipynb",
      "provenance": [],
      "collapsed_sections": [],
      "toc_visible": true,
      "include_colab_link": true
    },
    "kernelspec": {
      "name": "python3",
      "display_name": "Python 3"
    }
  },
  "cells": [
    {
      "cell_type": "markdown",
      "metadata": {
        "id": "view-in-github",
        "colab_type": "text"
      },
      "source": [
        "<a href=\"https://colab.research.google.com/github/anas-awadalla/FutureSalesPredictor/blob/master/Autonomus_Driving_Model_Using_AirSim_Data_.ipynb\" target=\"_parent\"><img src=\"https://colab.research.google.com/assets/colab-badge.svg\" alt=\"Open In Colab\"/></a>"
      ]
    },
    {
      "cell_type": "code",
      "metadata": {
        "id": "w7nVuOLLH0kb",
        "colab_type": "code",
        "colab": {}
      },
      "source": [
        "import numpy as np\n",
        "import pandas as pd\n",
        "import h5py\n",
        "import matplotlib.pyplot as plt\n",
        "from PIL import Image, ImageDraw\n",
        "import os\n",
        "import random\n",
        "RAW_DATA_DIR = 'data_raw/'\n",
        "COOKED_DATA_DIR = 'data_cooked/'\n",
        "DATA_FOLDERS = ['normal_1', 'normal_2', 'normal_3', 'normal_4', 'normal_5', 'normal_6', 'swerve_1', 'swerve_2', 'swerve_3']\n",
        "FIGURE_SIZE = (10,10)"
      ],
      "execution_count": 0,
      "outputs": []
    },
    {
      "cell_type": "code",
      "metadata": {
        "id": "xvmRnni8D75P",
        "colab_type": "code",
        "colab": {}
      },
      "source": [
        "sample_tsv_path = os.path.join(RAW_DATA_DIR, 'normal_1/airsim_rec.txt')\n",
        "sample_tsv = pd.read_csv(sample_tsv_path, sep='\\t')\n",
        "sample_tsv.head()"
      ],
      "execution_count": 0,
      "outputs": []
    },
    {
      "cell_type": "markdown",
      "metadata": {
        "id": "CUAqK7bsGZRG",
        "colab_type": "text"
      },
      "source": [
        "Put dataframes togther"
      ]
    },
    {
      "cell_type": "code",
      "metadata": {
        "id": "p808cll7HEYX",
        "colab_type": "code",
        "colab": {}
      },
      "source": [
        "from google.colab import files\n",
        "\n",
        "with open('example.txt', 'w') as f:\n",
        "  f.write('some content')\n",
        "\n",
        "files.download('example.txt')"
      ],
      "execution_count": 0,
      "outputs": []
    },
    {
      "cell_type": "code",
      "metadata": {
        "id": "KkKjcV-hGDg4",
        "colab_type": "code",
        "colab": {}
      },
      "source": [
        "full_path_raw_folders = [os.path.join(RAW_DATA_DIR, f) for f in DATA_FOLDERS]\n",
        "dataframes = []\n",
        "for folder in full_path_raw_folders:\n",
        "    current_dataframe = pd.read_csv(os.path.join(folder, 'airsim_rec.txt'), sep='\\t')\n",
        "    current_dataframe['Folder'] = folder\n",
        "    dataframes.append(current_dataframe)\n",
        "dataset = pd.concat(dataframes, axis=0)\n",
        "print('Number of data points: {0}'.format(dataset.shape[0]))\n",
        "dataset.head()\n"
      ],
      "execution_count": 0,
      "outputs": []
    },
    {
      "cell_type": "markdown",
      "metadata": {
        "id": "2aVA7g50GJLE",
        "colab_type": "text"
      },
      "source": [
        "Take a look at the steering angle associated with pictures if the driving condition is normal or swerving"
      ]
    },
    {
      "cell_type": "code",
      "metadata": {
        "id": "k4u0l3uYGhRh",
        "colab_type": "code",
        "colab": {}
      },
      "source": [
        "min_index = 100\n",
        "max_index = 1100\n",
        "steering_angles_normal_1 = dataset[dataset['Folder'].apply(lambda v: 'normal_1' in v)]['Steering'][min_index:max_index]\n",
        "steering_angles_swerve_1 = dataset[dataset['Folder'].apply(lambda v: 'swerve_1' in v)]['Steering'][min_index:max_index]\n",
        "plot_index = [i for i in range(min_index, max_index, 1)]\n",
        "fig = plt.figure(figsize=FIGURE_SIZE)\n",
        "ax1 = fig.add_subplot(111)\n",
        "ax1.scatter(plot_index, steering_angles_normal_1, c='b', marker='o', label='normal_1')\n",
        "ax1.scatter(plot_index, steering_angles_swerve_1, c='r', marker='o', label='swerve_1')\n",
        "plt.legend(loc='upper left');\n",
        "plt.title('Steering angles for normal and swerving data')\n",
        "plt.xlabel('Time')\n",
        "plt.ylabel('Steering Angle')\n",
        "plt.show()"
      ],
      "execution_count": 0,
      "outputs": []
    },
    {
      "cell_type": "code",
      "metadata": {
        "id": "uvrvkuoSHP-c",
        "colab_type": "code",
        "colab": {}
      },
      "source": [
        "train_eval_test_split = [0.7, 0.2, 0.1]\n",
        "full_path_raw_folders = [os.path.join(RAW_DATA_DIR, f) for f in DATA_FOLDERS]\n",
        "Cooking.cook(full_path_raw_folders, COOKED_DATA_DIR, train_eval_test_split)"
      ],
      "execution_count": 0,
      "outputs": []
    }
  ]
}