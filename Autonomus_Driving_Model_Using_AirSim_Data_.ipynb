{
  "nbformat": 4,
  "nbformat_minor": 0,
  "metadata": {
    "colab": {
      "name": "Autonomus Driving Model Using AirSim Data .ipynb",
      "provenance": [],
      "include_colab_link": true
    },
    "kernelspec": {
      "name": "python3",
      "display_name": "Python 3"
    }
  },
  "cells": [
    {
      "cell_type": "markdown",
      "metadata": {
        "id": "view-in-github",
        "colab_type": "text"
      },
      "source": [
        "<a href=\"https://colab.research.google.com/github/anas-awadalla/Autonomous-Driving-Deep-Neural-Network/blob/master/Autonomus_Driving_Model_Using_AirSim_Data_.ipynb\" target=\"_parent\"><img src=\"https://colab.research.google.com/assets/colab-badge.svg\" alt=\"Open In Colab\"/></a>"
      ]
    },
    {
      "cell_type": "code",
      "metadata": {
        "id": "fT9Ih22YO-h9",
        "colab_type": "code",
        "colab": {
          "base_uri": "https://localhost:8080/",
          "height": 54
        },
        "outputId": "dbf47900-2a96-4adf-942d-5e1b0acf61d7"
      },
      "source": [
        "from google.colab import drive\n",
        "drive.mount('/content/drive')"
      ],
      "execution_count": 30,
      "outputs": [
        {
          "output_type": "stream",
          "text": [
            "Drive already mounted at /content/drive; to attempt to forcibly remount, call drive.mount(\"/content/drive\", force_remount=True).\n"
          ],
          "name": "stdout"
        }
      ]
    },
    {
      "cell_type": "markdown",
      "metadata": {
        "id": "QJ0qlFErQiSz",
        "colab_type": "text"
      },
      "source": [
        "Goal: Train a convolutional neural network that can makes steering angle predictions based on camera images of the\n",
        "vehicle's state"
      ]
    },
    {
      "cell_type": "markdown",
      "metadata": {
        "id": "LOppACMjQsKN",
        "colab_type": "text"
      },
      "source": [
        "STEP 1: Explore and Prep Data"
      ]
    },
    {
      "cell_type": "code",
      "metadata": {
        "id": "Nxsg-Lc3Qp2G",
        "colab_type": "code",
        "colab": {}
      },
      "source": [
        "import numpy as np\n",
        "import pandas as pd\n",
        "import h5py\n",
        "import matplotlib.pyplot as plt\n",
        "from PIL import Image, ImageDraw\n",
        "import os\n",
        "import random\n",
        "\n",
        "RAW_DATA_DIR = '/content/drive/My Drive/data_raw/'\n",
        "COOKED_DATA_DIR = 'data_cooked/'\n",
        "DATA_FOLDERS = ['normal_1', 'normal_2', 'normal_3', 'normal_4', 'normal_5', 'normal_6', 'swerve_1', 'swerve_2', 'swerve_3']\n",
        "FIGURE_SIZE = (10,10)"
      ],
      "execution_count": 0,
      "outputs": []
    },
    {
      "cell_type": "code",
      "metadata": {
        "id": "gLdMxjKDRUer",
        "colab_type": "code",
        "colab": {
          "base_uri": "https://localhost:8080/",
          "height": 204
        },
        "outputId": "e6dd14e8-0682-4eac-c195-9c4d06ea6e3d"
      },
      "source": [
        "sample_tsv_path = os.path.join(RAW_DATA_DIR, 'normal_1/airsim_rec.txt')\n",
        "sample_tsv = pd.read_csv(sample_tsv_path, sep='\\t')\n",
        "sample_tsv.head()"
      ],
      "execution_count": 32,
      "outputs": [
        {
          "output_type": "execute_result",
          "data": {
            "text/html": [
              "<div>\n",
              "<style scoped>\n",
              "    .dataframe tbody tr th:only-of-type {\n",
              "        vertical-align: middle;\n",
              "    }\n",
              "\n",
              "    .dataframe tbody tr th {\n",
              "        vertical-align: top;\n",
              "    }\n",
              "\n",
              "    .dataframe thead th {\n",
              "        text-align: right;\n",
              "    }\n",
              "</style>\n",
              "<table border=\"1\" class=\"dataframe\">\n",
              "  <thead>\n",
              "    <tr style=\"text-align: right;\">\n",
              "      <th></th>\n",
              "      <th>Timestamp</th>\n",
              "      <th>Speed (kmph)</th>\n",
              "      <th>Throttle</th>\n",
              "      <th>Steering</th>\n",
              "      <th>Brake</th>\n",
              "      <th>Gear</th>\n",
              "      <th>ImageName</th>\n",
              "    </tr>\n",
              "  </thead>\n",
              "  <tbody>\n",
              "    <tr>\n",
              "      <th>0</th>\n",
              "      <td>93683464</td>\n",
              "      <td>0</td>\n",
              "      <td>0.0</td>\n",
              "      <td>0.000000</td>\n",
              "      <td>0.0</td>\n",
              "      <td>N</td>\n",
              "      <td>img_0.png</td>\n",
              "    </tr>\n",
              "    <tr>\n",
              "      <th>1</th>\n",
              "      <td>93689595</td>\n",
              "      <td>0</td>\n",
              "      <td>0.0</td>\n",
              "      <td>0.000000</td>\n",
              "      <td>0.0</td>\n",
              "      <td>N</td>\n",
              "      <td>img_1.png</td>\n",
              "    </tr>\n",
              "    <tr>\n",
              "      <th>2</th>\n",
              "      <td>93689624</td>\n",
              "      <td>0</td>\n",
              "      <td>0.0</td>\n",
              "      <td>-0.035522</td>\n",
              "      <td>0.0</td>\n",
              "      <td>N</td>\n",
              "      <td>img_2.png</td>\n",
              "    </tr>\n",
              "    <tr>\n",
              "      <th>3</th>\n",
              "      <td>93689624</td>\n",
              "      <td>0</td>\n",
              "      <td>0.0</td>\n",
              "      <td>-0.035522</td>\n",
              "      <td>0.0</td>\n",
              "      <td>N</td>\n",
              "      <td>img_3.png</td>\n",
              "    </tr>\n",
              "    <tr>\n",
              "      <th>4</th>\n",
              "      <td>93689624</td>\n",
              "      <td>0</td>\n",
              "      <td>0.0</td>\n",
              "      <td>-0.035522</td>\n",
              "      <td>0.0</td>\n",
              "      <td>N</td>\n",
              "      <td>img_4.png</td>\n",
              "    </tr>\n",
              "  </tbody>\n",
              "</table>\n",
              "</div>"
            ],
            "text/plain": [
              "   Timestamp  Speed (kmph)  Throttle  Steering  Brake Gear  ImageName\n",
              "0   93683464             0       0.0  0.000000    0.0    N  img_0.png\n",
              "1   93689595             0       0.0  0.000000    0.0    N  img_1.png\n",
              "2   93689624             0       0.0 -0.035522    0.0    N  img_2.png\n",
              "3   93689624             0       0.0 -0.035522    0.0    N  img_3.png\n",
              "4   93689624             0       0.0 -0.035522    0.0    N  img_4.png"
            ]
          },
          "metadata": {
            "tags": []
          },
          "execution_count": 32
        }
      ]
    },
    {
      "cell_type": "code",
      "metadata": {
        "id": "fqT6JeWLRcxo",
        "colab_type": "code",
        "colab": {
          "base_uri": "https://localhost:8080/",
          "height": 221
        },
        "outputId": "56b8b712-0051-4fee-8765-a245afee34b3"
      },
      "source": [
        "#Putting all the data togther (non image data)\n",
        "full_path_raw_folders = [os.path.join(RAW_DATA_DIR, f) for f in DATA_FOLDERS]\n",
        "\n",
        "dataframes = []\n",
        "for folder in full_path_raw_folders:\n",
        "    current_dataframe = pd.read_csv(os.path.join(folder, 'airsim_rec.txt'), sep='\\t')\n",
        "    current_dataframe['Folder'] = folder\n",
        "    dataframes.append(current_dataframe)\n",
        "    \n",
        "dataset = pd.concat(dataframes, axis=0)\n",
        "\n",
        "print('Number of data points: {0}'.format(dataset.shape[0]))\n",
        "\n",
        "dataset.head()"
      ],
      "execution_count": 33,
      "outputs": [
        {
          "output_type": "stream",
          "text": [
            "Number of data points: 46738\n"
          ],
          "name": "stdout"
        },
        {
          "output_type": "execute_result",
          "data": {
            "text/html": [
              "<div>\n",
              "<style scoped>\n",
              "    .dataframe tbody tr th:only-of-type {\n",
              "        vertical-align: middle;\n",
              "    }\n",
              "\n",
              "    .dataframe tbody tr th {\n",
              "        vertical-align: top;\n",
              "    }\n",
              "\n",
              "    .dataframe thead th {\n",
              "        text-align: right;\n",
              "    }\n",
              "</style>\n",
              "<table border=\"1\" class=\"dataframe\">\n",
              "  <thead>\n",
              "    <tr style=\"text-align: right;\">\n",
              "      <th></th>\n",
              "      <th>Timestamp</th>\n",
              "      <th>Speed (kmph)</th>\n",
              "      <th>Throttle</th>\n",
              "      <th>Steering</th>\n",
              "      <th>Brake</th>\n",
              "      <th>Gear</th>\n",
              "      <th>ImageName</th>\n",
              "      <th>Folder</th>\n",
              "    </tr>\n",
              "  </thead>\n",
              "  <tbody>\n",
              "    <tr>\n",
              "      <th>0</th>\n",
              "      <td>93683464</td>\n",
              "      <td>0</td>\n",
              "      <td>0.0</td>\n",
              "      <td>0.000000</td>\n",
              "      <td>0.0</td>\n",
              "      <td>N</td>\n",
              "      <td>img_0.png</td>\n",
              "      <td>/content/drive/My Drive/data_raw/normal_1</td>\n",
              "    </tr>\n",
              "    <tr>\n",
              "      <th>1</th>\n",
              "      <td>93689595</td>\n",
              "      <td>0</td>\n",
              "      <td>0.0</td>\n",
              "      <td>0.000000</td>\n",
              "      <td>0.0</td>\n",
              "      <td>N</td>\n",
              "      <td>img_1.png</td>\n",
              "      <td>/content/drive/My Drive/data_raw/normal_1</td>\n",
              "    </tr>\n",
              "    <tr>\n",
              "      <th>2</th>\n",
              "      <td>93689624</td>\n",
              "      <td>0</td>\n",
              "      <td>0.0</td>\n",
              "      <td>-0.035522</td>\n",
              "      <td>0.0</td>\n",
              "      <td>N</td>\n",
              "      <td>img_2.png</td>\n",
              "      <td>/content/drive/My Drive/data_raw/normal_1</td>\n",
              "    </tr>\n",
              "    <tr>\n",
              "      <th>3</th>\n",
              "      <td>93689624</td>\n",
              "      <td>0</td>\n",
              "      <td>0.0</td>\n",
              "      <td>-0.035522</td>\n",
              "      <td>0.0</td>\n",
              "      <td>N</td>\n",
              "      <td>img_3.png</td>\n",
              "      <td>/content/drive/My Drive/data_raw/normal_1</td>\n",
              "    </tr>\n",
              "    <tr>\n",
              "      <th>4</th>\n",
              "      <td>93689624</td>\n",
              "      <td>0</td>\n",
              "      <td>0.0</td>\n",
              "      <td>-0.035522</td>\n",
              "      <td>0.0</td>\n",
              "      <td>N</td>\n",
              "      <td>img_4.png</td>\n",
              "      <td>/content/drive/My Drive/data_raw/normal_1</td>\n",
              "    </tr>\n",
              "  </tbody>\n",
              "</table>\n",
              "</div>"
            ],
            "text/plain": [
              "   Timestamp  ...                                     Folder\n",
              "0   93683464  ...  /content/drive/My Drive/data_raw/normal_1\n",
              "1   93689595  ...  /content/drive/My Drive/data_raw/normal_1\n",
              "2   93689624  ...  /content/drive/My Drive/data_raw/normal_1\n",
              "3   93689624  ...  /content/drive/My Drive/data_raw/normal_1\n",
              "4   93689624  ...  /content/drive/My Drive/data_raw/normal_1\n",
              "\n",
              "[5 rows x 8 columns]"
            ]
          },
          "metadata": {
            "tags": []
          },
          "execution_count": 33
        }
      ]
    },
    {
      "cell_type": "code",
      "metadata": {
        "id": "bYq3rtFvR0zn",
        "colab_type": "code",
        "colab": {
          "base_uri": "https://localhost:8080/",
          "height": 607
        },
        "outputId": "6bbfd58a-ae31-4fd2-8b8c-e9afae265329"
      },
      "source": [
        "#NORMAL VS SWERVE CONDITIONS DATA COMPARISIONS\n",
        "steering_angles_normal_1 = dataset[dataset['Folder'].apply(lambda v: 'normal_1' in v)]['Steering'][1:1000]\n",
        "steering_angles_swerve_1 = dataset[dataset['Folder'].apply(lambda v: 'swerve_1' in v)]['Steering'][1:1000]\n",
        "plot_index = [i for i in range(1, 1000, 1)]\n",
        "fig = plt.figure(figsize=FIGURE_SIZE)\n",
        "ax1 = fig.add_subplot(111)\n",
        "ax1.scatter(plot_index, steering_angles_normal_1, c='b', marker='o', label='normal_1')\n",
        "ax1.scatter(plot_index, steering_angles_swerve_1, c='r', marker='o', label='swerve_1')\n",
        "plt.legend(loc='upper left');\n",
        "plt.title('Steering Angles for normal_1 and swerve_1 runs')\n",
        "plt.ylabel('Steering Angle')\n",
        "plt.show()"
      ],
      "execution_count": 34,
      "outputs": [
        {
          "output_type": "display_data",
          "data": {
            "image/png": "[encoded data removed]",
            "text/plain": [
              "<Figure size 720x720 with 1 Axes>"
            ]
          },
          "metadata": {
            "tags": []
          }
        }
      ]
    },
    {
      "cell_type": "code",
      "metadata": {
        "id": "8HagaznqSTLY",
        "colab_type": "code",
        "colab": {
          "base_uri": "https://localhost:8080/",
          "height": 207
        },
        "outputId": "adc78c76-e39f-4b6f-be89-699f3c6b3142"
      },
      "source": [
        "from keras.preprocessing.image import ImageDataGenerator\n",
        "from keras.models import Sequential, Model\n",
        "from keras.layers import Conv2D, MaxPooling2D, Dropout, Flatten, Dense, Lambda, Input, concatenate\n",
        "from keras.layers.normalization import BatchNormalization\n",
        "from keras.layers.advanced_activations import ELU\n",
        "from keras.optimizers import Adam, SGD, Adamax, Nadam\n",
        "from keras.callbacks import ReduceLROnPlateau, ModelCheckpoint, CSVLogger, EarlyStopping\n",
        "import keras.backend as K\n",
        "from keras.preprocessing import image\n",
        "!pip install keras_tqdm\n",
        "from keras_tqdm import TQDMNotebookCallback\n",
        "\n",
        "import json\n",
        "import os\n",
        "import numpy as np\n",
        "import pandas as pd\n",
        "from Generator import DriveDataGenerator\n",
        "import Cooking\n",
        "import h5py\n",
        "from PIL import Image, ImageDraw\n",
        "import math\n",
        "import matplotlib.pyplot as plt\n",
        "\n",
        "COOKED_DATA_DIR = 'data_cooked/'\n",
        "MODEL_OUTPUT_DIR = 'model'"
      ],
      "execution_count": 39,
      "outputs": [
        {
          "output_type": "stream",
          "text": [
            "Requirement already satisfied: keras_tqdm in /usr/local/lib/python3.6/dist-packages (2.0.1)\n",
            "Requirement already satisfied: Keras in /usr/local/lib/python3.6/dist-packages (from keras_tqdm) (2.2.5)\n",
            "Requirement already satisfied: tqdm in /usr/local/lib/python3.6/dist-packages (from keras_tqdm) (4.28.1)\n",
            "Requirement already satisfied: pyyaml in /usr/local/lib/python3.6/dist-packages (from Keras->keras_tqdm) (3.13)\n",
            "Requirement already satisfied: keras-applications>=1.0.8 in /usr/local/lib/python3.6/dist-packages (from Keras->keras_tqdm) (1.0.8)\n",
            "Requirement already satisfied: numpy>=1.9.1 in /usr/local/lib/python3.6/dist-packages (from Keras->keras_tqdm) (1.17.5)\n",
            "Requirement already satisfied: six>=1.9.0 in /usr/local/lib/python3.6/dist-packages (from Keras->keras_tqdm) (1.12.0)\n",
            "Requirement already satisfied: scipy>=0.14 in /usr/local/lib/python3.6/dist-packages (from Keras->keras_tqdm) (1.4.1)\n",
            "Requirement already satisfied: keras-preprocessing>=1.1.0 in /usr/local/lib/python3.6/dist-packages (from Keras->keras_tqdm) (1.1.0)\n",
            "Requirement already satisfied: h5py in /usr/local/lib/python3.6/dist-packages (from Keras->keras_tqdm) (2.8.0)\n"
          ],
          "name": "stdout"
        }
      ]
    },
    {
      "cell_type": "code",
      "metadata": {
        "id": "XDnY6LFVbBWg",
        "colab_type": "code",
        "colab": {
          "base_uri": "https://localhost:8080/",
          "height": 187
        },
        "outputId": "9cf22e7c-2d01-4c80-d7be-6ec165c4d710"
      },
      "source": [
        "train_eval_test_split = [0.7, 0.2, 0.1]\n",
        "full_path_raw_folders = [os.path.join(RAW_DATA_DIR, f) for f in DATA_FOLDERS]\n",
        "Cooking.cook(full_path_raw_folders, COOKED_DATA_DIR, train_eval_test_split)"
      ],
      "execution_count": 0,
      "outputs": [
        {
          "output_type": "stream",
          "text": [
            "Reading data from /content/drive/My Drive/data_raw/normal_1...\n",
            "Reading data from /content/drive/My Drive/data_raw/normal_2...\n",
            "Reading data from /content/drive/My Drive/data_raw/normal_3...\n",
            "Reading data from /content/drive/My Drive/data_raw/normal_4...\n",
            "Reading data from /content/drive/My Drive/data_raw/normal_5...\n",
            "Reading data from /content/drive/My Drive/data_raw/normal_6...\n",
            "Reading data from /content/drive/My Drive/data_raw/swerve_1...\n",
            "Reading data from /content/drive/My Drive/data_raw/swerve_2...\n",
            "Reading data from /content/drive/My Drive/data_raw/swerve_3...\n",
            "Processing data_cooked/train.h5...\n"
          ],
          "name": "stdout"
        }
      ]
    },
    {
      "cell_type": "code",
      "metadata": {
        "id": "4gNNS3nmbNVD",
        "colab_type": "code",
        "colab": {}
      },
      "source": [
        "train_dataset = h5py.File(os.path.join(COOKED_DATA_DIR, 'train.h5'), 'r')\n",
        "eval_dataset = h5py.File(os.path.join(COOKED_DATA_DIR, 'eval.h5'), 'r')\n",
        "test_dataset = h5py.File(os.path.join(COOKED_DATA_DIR, 'test.h5'), 'r')\n",
        "num_train_examples = train_dataset['image'].shape[0]\n",
        "num_eval_examples = eval_dataset['image'].shape[0]\n",
        "num_test_examples = test_dataset['image'].shape[0]\n",
        "batch_size=32"
      ],
      "execution_count": 0,
      "outputs": []
    },
    {
      "cell_type": "code",
      "metadata": {
        "id": "OiNoOWmEwXEV",
        "colab_type": "code",
        "colab": {
          "base_uri": "https://localhost:8080/",
          "height": 361
        },
        "outputId": "7a57621a-2bab-4b35-98f3-411bae49046e"
      },
      "source": [
        "data_generator = DriveDataGenerator(rescale=1./255., horizontal_flip=True, brighten_range=0.4)\n",
        "train_generator = data_generator.flow\\\n",
        "    (train_dataset['image'], train_dataset['previous_state'], train_dataset['label'], batch_size=batch_size, zero_drop_percentage=0.95, roi=[76,135,0,255])\n",
        "eval_generator = data_generator.flow\\\n",
        "    (eval_dataset['image'], eval_dataset['previous_state'], eval_dataset['label'], batch_size=batch_size, zero_drop_percentage=0.95, roi=[76,135,0,255])"
      ],
      "execution_count": 38,
      "outputs": [
        {
          "output_type": "error",
          "ename": "ValueError",
          "evalue": "ignored",
          "traceback": [
            "\u001b[0;31m---------------------------------------------------------------------------\u001b[0m",
            "\u001b[0;31mValueError\u001b[0m                                Traceback (most recent call last)",
            "\u001b[0;32m<ipython-input-38-c330b64074fa>\u001b[0m in \u001b[0;36m<module>\u001b[0;34m()\u001b[0m\n\u001b[0;32m----> 1\u001b[0;31m \u001b[0mdata_generator\u001b[0m \u001b[0;34m=\u001b[0m \u001b[0mDriveDataGenerator\u001b[0m\u001b[0;34m(\u001b[0m\u001b[0mrescale\u001b[0m\u001b[0;34m=\u001b[0m\u001b[0;36m1.\u001b[0m\u001b[0;34m/\u001b[0m\u001b[0;36m255.\u001b[0m\u001b[0;34m,\u001b[0m \u001b[0mhorizontal_flip\u001b[0m\u001b[0;34m=\u001b[0m\u001b[0;32mTrue\u001b[0m\u001b[0;34m,\u001b[0m \u001b[0mbrighten_range\u001b[0m\u001b[0;34m=\u001b[0m\u001b[0;36m0.4\u001b[0m\u001b[0;34m)\u001b[0m\u001b[0;34m\u001b[0m\u001b[0;34m\u001b[0m\u001b[0m\n\u001b[0m\u001b[1;32m      2\u001b[0m \u001b[0mtrain_generator\u001b[0m \u001b[0;34m=\u001b[0m \u001b[0mdata_generator\u001b[0m\u001b[0;34m.\u001b[0m\u001b[0mflow\u001b[0m    \u001b[0;34m(\u001b[0m\u001b[0mtrain_dataset\u001b[0m\u001b[0;34m[\u001b[0m\u001b[0;34m'image'\u001b[0m\u001b[0;34m]\u001b[0m\u001b[0;34m,\u001b[0m \u001b[0mtrain_dataset\u001b[0m\u001b[0;34m[\u001b[0m\u001b[0;34m'previous_state'\u001b[0m\u001b[0;34m]\u001b[0m\u001b[0;34m,\u001b[0m \u001b[0mtrain_dataset\u001b[0m\u001b[0;34m[\u001b[0m\u001b[0;34m'label'\u001b[0m\u001b[0;34m]\u001b[0m\u001b[0;34m,\u001b[0m \u001b[0mbatch_size\u001b[0m\u001b[0;34m=\u001b[0m\u001b[0mbatch_size\u001b[0m\u001b[0;34m,\u001b[0m \u001b[0mzero_drop_percentage\u001b[0m\u001b[0;34m=\u001b[0m\u001b[0;36m0.95\u001b[0m\u001b[0;34m,\u001b[0m \u001b[0mroi\u001b[0m\u001b[0;34m=\u001b[0m\u001b[0;34m[\u001b[0m\u001b[0;36m76\u001b[0m\u001b[0;34m,\u001b[0m\u001b[0;36m135\u001b[0m\u001b[0;34m,\u001b[0m\u001b[0;36m0\u001b[0m\u001b[0;34m,\u001b[0m\u001b[0;36m255\u001b[0m\u001b[0;34m]\u001b[0m\u001b[0;34m)\u001b[0m\u001b[0;34m\u001b[0m\u001b[0;34m\u001b[0m\u001b[0m\n\u001b[1;32m      3\u001b[0m \u001b[0meval_generator\u001b[0m \u001b[0;34m=\u001b[0m \u001b[0mdata_generator\u001b[0m\u001b[0;34m.\u001b[0m\u001b[0mflow\u001b[0m    \u001b[0;34m(\u001b[0m\u001b[0meval_dataset\u001b[0m\u001b[0;34m[\u001b[0m\u001b[0;34m'image'\u001b[0m\u001b[0;34m]\u001b[0m\u001b[0;34m,\u001b[0m \u001b[0meval_dataset\u001b[0m\u001b[0;34m[\u001b[0m\u001b[0;34m'previous_state'\u001b[0m\u001b[0;34m]\u001b[0m\u001b[0;34m,\u001b[0m \u001b[0meval_dataset\u001b[0m\u001b[0;34m[\u001b[0m\u001b[0;34m'label'\u001b[0m\u001b[0;34m]\u001b[0m\u001b[0;34m,\u001b[0m \u001b[0mbatch_size\u001b[0m\u001b[0;34m=\u001b[0m\u001b[0mbatch_size\u001b[0m\u001b[0;34m,\u001b[0m \u001b[0mzero_drop_percentage\u001b[0m\u001b[0;34m=\u001b[0m\u001b[0;36m0.95\u001b[0m\u001b[0;34m,\u001b[0m \u001b[0mroi\u001b[0m\u001b[0;34m=\u001b[0m\u001b[0;34m[\u001b[0m\u001b[0;36m76\u001b[0m\u001b[0;34m,\u001b[0m\u001b[0;36m135\u001b[0m\u001b[0;34m,\u001b[0m\u001b[0;36m0\u001b[0m\u001b[0;34m,\u001b[0m\u001b[0;36m255\u001b[0m\u001b[0;34m]\u001b[0m\u001b[0;34m)\u001b[0m\u001b[0;34m\u001b[0m\u001b[0;34m\u001b[0m\u001b[0m\n",
            "\u001b[0;32m/content/Generator.py\u001b[0m in \u001b[0;36m__init__\u001b[0;34m(self, featurewise_center, samplewise_center, featurewise_std_normalization, samplewise_std_normalization, zca_whitening, zca_epsilon, rotation_range, width_shift_range, height_shift_range, shear_range, zoom_range, channel_shift_range, fill_mode, cval, horizontal_flip, vertical_flip, rescale, preprocessing_function, data_format, brighten_range)\u001b[0m\n\u001b[1;32m     45\u001b[0m                  \u001b[0mrescale\u001b[0m\u001b[0;34m,\u001b[0m\u001b[0;34m\u001b[0m\u001b[0;34m\u001b[0m\u001b[0m\n\u001b[1;32m     46\u001b[0m                  \u001b[0mpreprocessing_function\u001b[0m\u001b[0;34m,\u001b[0m\u001b[0;34m\u001b[0m\u001b[0;34m\u001b[0m\u001b[0m\n\u001b[0;32m---> 47\u001b[0;31m                  data_format)\n\u001b[0m\u001b[1;32m     48\u001b[0m         \u001b[0mself\u001b[0m\u001b[0;34m.\u001b[0m\u001b[0mbrighten_range\u001b[0m \u001b[0;34m=\u001b[0m \u001b[0mbrighten_range\u001b[0m\u001b[0;34m\u001b[0m\u001b[0;34m\u001b[0m\u001b[0m\n\u001b[1;32m     49\u001b[0m \u001b[0;34m\u001b[0m\u001b[0m\n",
            "\u001b[0;32m/usr/local/lib/python3.6/dist-packages/keras/preprocessing/image.py\u001b[0m in \u001b[0;36m__init__\u001b[0;34m(self, featurewise_center, samplewise_center, featurewise_std_normalization, samplewise_std_normalization, zca_whitening, zca_epsilon, rotation_range, width_shift_range, height_shift_range, brightness_range, shear_range, zoom_range, channel_shift_range, fill_mode, cval, horizontal_flip, vertical_flip, rescale, preprocessing_function, data_format, validation_split, dtype)\u001b[0m\n\u001b[1;32m    465\u001b[0m             \u001b[0mdata_format\u001b[0m\u001b[0;34m=\u001b[0m\u001b[0mdata_format\u001b[0m\u001b[0;34m,\u001b[0m\u001b[0;34m\u001b[0m\u001b[0;34m\u001b[0m\u001b[0m\n\u001b[1;32m    466\u001b[0m             \u001b[0mvalidation_split\u001b[0m\u001b[0;34m=\u001b[0m\u001b[0mvalidation_split\u001b[0m\u001b[0;34m,\u001b[0m\u001b[0;34m\u001b[0m\u001b[0;34m\u001b[0m\u001b[0m\n\u001b[0;32m--> 467\u001b[0;31m             **kwargs)\n\u001b[0m\u001b[1;32m    468\u001b[0m \u001b[0;34m\u001b[0m\u001b[0m\n\u001b[1;32m    469\u001b[0m \u001b[0;34m\u001b[0m\u001b[0m\n",
            "\u001b[0;32m/usr/local/lib/python3.6/dist-packages/keras_preprocessing/image/image_data_generator.py\u001b[0m in \u001b[0;36m__init__\u001b[0;34m(self, featurewise_center, samplewise_center, featurewise_std_normalization, samplewise_std_normalization, zca_whitening, zca_epsilon, rotation_range, width_shift_range, height_shift_range, brightness_range, shear_range, zoom_range, channel_shift_range, fill_mode, cval, horizontal_flip, vertical_flip, rescale, preprocessing_function, data_format, validation_split, interpolation_order, dtype)\u001b[0m\n\u001b[1;32m    362\u001b[0m                 raise ValueError(\n\u001b[1;32m    363\u001b[0m                     \u001b[0;34m'`brightness_range should be tuple or list of two floats. '\u001b[0m\u001b[0;34m\u001b[0m\u001b[0;34m\u001b[0m\u001b[0m\n\u001b[0;32m--> 364\u001b[0;31m                     'Received: %s' % (brightness_range,))\n\u001b[0m\u001b[1;32m    365\u001b[0m         \u001b[0mself\u001b[0m\u001b[0;34m.\u001b[0m\u001b[0mbrightness_range\u001b[0m \u001b[0;34m=\u001b[0m \u001b[0mbrightness_range\u001b[0m\u001b[0;34m\u001b[0m\u001b[0;34m\u001b[0m\u001b[0m\n\u001b[1;32m    366\u001b[0m \u001b[0;34m\u001b[0m\u001b[0m\n",
            "\u001b[0;31mValueError\u001b[0m: `brightness_range should be tuple or list of two floats. Received: 0.0"
          ]
        }
      ]
    },
    {
      "cell_type": "code",
      "metadata": {
        "id": "QvQPHPwrwaZS",
        "colab_type": "code",
        "colab": {}
      },
      "source": [
        "image_input_shape = sample_batch_train_data[0].shape[1:]\n",
        "state_input_shape = sample_batch_train_data[1].shape[1:]\n",
        "activation = 'relu'\n",
        "pic_input = Input(shape=image_input_shape)\n",
        "img_stack = Conv2D(16, (3, 3), name=\"convolution0\", padding='same', activation=activation)(pic_input)\n",
        "img_stack = MaxPooling2D(pool_size=(2,2))(img_stack)\n",
        "img_stack = Conv2D(32, (3, 3), activation=activation, padding='same', name='convolution1')(img_stack)\n",
        "img_stack = MaxPooling2D(pool_size=(2, 2))(img_stack)\n",
        "img_stack = Conv2D(32, (3, 3), activation=activation, padding='same', name='convolution2')(img_stack)\n",
        "img_stack = MaxPooling2D(pool_size=(2, 2))(img_stack)\n",
        "img_stack = Flatten()(img_stack)\n",
        "img_stack = Dropout(0.2)(img_stack)\n",
        "state_input = Input(shape=state_input_shape)\n",
        "merged = concatenate([img_stack, state_input])\n",
        "merged = Dense(64, activation=activation, name='dense0')(merged)\n",
        "merged = Dropout(0.2)(merged)\n",
        "merged = Dense(10, activation=activation, name='dense2')(merged)\n",
        "merged = Dropout(0.2)(merged)\n",
        "merged = Dense(1, name='output')(merged)\n",
        "adam = Nadam(lr=0.0001, beta_1=0.9, beta_2=0.999, epsilon=1e-08)\n",
        "model = Model(inputs=[pic_input, state_input], outputs=merged)\n",
        "model.compile(optimizer=adam, loss='mse')"
      ],
      "execution_count": 0,
      "outputs": []
    },
    {
      "cell_type": "code",
      "metadata": {
        "id": "11n3bDHLww_C",
        "colab_type": "code",
        "colab": {}
      },
      "source": [
        "model.summary()\n"
      ],
      "execution_count": 0,
      "outputs": []
    },
    {
      "cell_type": "code",
      "metadata": {
        "id": "pCDA3Q8bwzY5",
        "colab_type": "code",
        "colab": {}
      },
      "source": [
        "plateau_callback = ReduceLROnPlateau(monitor='val_loss', factor=0.5, patience=3, min_lr=0.0001, verbose=1)\n",
        "checkpoint_filepath = os.path.join(MODEL_OUTPUT_DIR, 'models', '{0}_model.{1}-{2}.h5'.format('model', '{epoch:02d}', '{val_loss:.7f}'))\n",
        "checkAndCreateDir(checkpoint_filepath)\n",
        "checkpoint_callback = ModelCheckpoint(checkpoint_filepath, save_best_only=True, verbose=1)\n",
        "csv_callback = CSVLogger(os.path.join(MODEL_OUTPUT_DIR, 'training_log.csv'))\n",
        "early_stopping_callback = EarlyStopping(monitor='val_loss', patience=10, verbose=1)\n",
        "callbacks=[plateau_callback, csv_callback, checkpoint_callback, early_stopping_callback, TQDMNotebookCallback()]"
      ],
      "execution_count": 0,
      "outputs": []
    },
    {
      "cell_type": "code",
      "metadata": {
        "id": "n3a7p6NPxFaW",
        "colab_type": "code",
        "colab": {}
      },
      "source": [
        "history = model.fit_generator(train_generator, steps_per_epoch=num_train_examples//batch_size, epochs=500, callbacks=callbacks,\\\n",
        "                   validation_data=eval_generator, validation_steps=num_eval_examples//batch_size, verbose=2"
      ],
      "execution_count": 0,
      "outputs": []
    },
    {
      "cell_type": "code",
      "metadata": {
        "id": "BnijAR-pxIZz",
        "colab_type": "code",
        "colab": {}
      },
      "source": [
        "[sample_batch_train_data, sample_batch_test_data] = next(train_generator)\n",
        "predictions = model.predict([sample_batch_train_data[0], sample_batch_train_data[1]])\n",
        "for i in range(0, 3, 1):\n",
        "    draw_image_with_label(sample_batch_train_data[0][i], sample_batch_test_data[i], predictions[i])"
      ],
      "execution_count": 0,
      "outputs": []
    }
  ]
}